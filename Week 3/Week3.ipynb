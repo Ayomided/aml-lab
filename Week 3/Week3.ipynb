{
 "cells": [
  {
   "cell_type": "code",
   "execution_count": 1,
   "metadata": {},
   "outputs": [
    {
     "data": {
      "text/html": [
       "<div>\n",
       "<style scoped>\n",
       "    .dataframe tbody tr th:only-of-type {\n",
       "        vertical-align: middle;\n",
       "    }\n",
       "\n",
       "    .dataframe tbody tr th {\n",
       "        vertical-align: top;\n",
       "    }\n",
       "\n",
       "    .dataframe thead th {\n",
       "        text-align: right;\n",
       "    }\n",
       "</style>\n",
       "<table border=\"1\" class=\"dataframe\">\n",
       "  <thead>\n",
       "    <tr style=\"text-align: right;\">\n",
       "      <th></th>\n",
       "      <th>timesPreg</th>\n",
       "      <th>plasmaConcenTest</th>\n",
       "      <th>bloodPres</th>\n",
       "      <th>skinFoldThickness</th>\n",
       "      <th>2HSerumInsulin</th>\n",
       "      <th>BMI</th>\n",
       "      <th>diabetesPedigree</th>\n",
       "      <th>age</th>\n",
       "      <th>onsetOfDiabetesbtw5yrs</th>\n",
       "    </tr>\n",
       "  </thead>\n",
       "  <tbody>\n",
       "    <tr>\n",
       "      <th>0</th>\n",
       "      <td>6</td>\n",
       "      <td>148</td>\n",
       "      <td>72</td>\n",
       "      <td>35</td>\n",
       "      <td>0</td>\n",
       "      <td>33.6</td>\n",
       "      <td>0.627</td>\n",
       "      <td>50</td>\n",
       "      <td>1</td>\n",
       "    </tr>\n",
       "    <tr>\n",
       "      <th>1</th>\n",
       "      <td>1</td>\n",
       "      <td>85</td>\n",
       "      <td>66</td>\n",
       "      <td>29</td>\n",
       "      <td>0</td>\n",
       "      <td>26.6</td>\n",
       "      <td>0.351</td>\n",
       "      <td>31</td>\n",
       "      <td>0</td>\n",
       "    </tr>\n",
       "  </tbody>\n",
       "</table>\n",
       "</div>"
      ],
      "text/plain": [
       "   timesPreg  plasmaConcenTest  bloodPres  skinFoldThickness  2HSerumInsulin  \\\n",
       "0          6               148         72                 35               0   \n",
       "1          1                85         66                 29               0   \n",
       "\n",
       "    BMI  diabetesPedigree  age  onsetOfDiabetesbtw5yrs  \n",
       "0  33.6             0.627   50                       1  \n",
       "1  26.6             0.351   31                       0  "
      ]
     },
     "execution_count": 1,
     "metadata": {},
     "output_type": "execute_result"
    }
   ],
   "source": [
    "# from pandas import read_csv\n",
    "import pandas as pd\n",
    "filename = '../Week 1/pima-indians-diabetes.data.csv'\n",
    "names = ['timesPreg', 'plasmaConcenTest', 'bloodPres', 'skinFoldThickness',\n",
    "         '2HSerumInsulin', 'BMI', 'diabetesPedigree', 'age', 'onsetOfDiabetesbtw5yrs']\n",
    "# data = read_csv(filename, names=names)\n",
    "df = pd.read_csv(filename, names=names)\n",
    "df.head(2) "
   ]
  }
 ],
 "metadata": {
  "kernelspec": {
   "display_name": "base",
   "language": "python",
   "name": "python3"
  },
  "language_info": {
   "codemirror_mode": {
    "name": "ipython",
    "version": 3
   },
   "file_extension": ".py",
   "mimetype": "text/x-python",
   "name": "python",
   "nbconvert_exporter": "python",
   "pygments_lexer": "ipython3",
   "version": "3.10.10"
  }
 },
 "nbformat": 4,
 "nbformat_minor": 2
}
